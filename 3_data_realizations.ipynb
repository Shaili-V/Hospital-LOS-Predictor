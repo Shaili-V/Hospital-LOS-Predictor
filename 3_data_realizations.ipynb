{
 "cells": [
  {
   "cell_type": "markdown",
   "id": "a3a6fa1b",
   "metadata": {},
   "source": [
    "# Data Realizations\n",
    "This file contains code to create various visualizations exploring relationships between the target column (\"length_of_stay\") and the 11 features. \n",
    "\n",
    "The main purpose of this file is to understand relationships in the dataset and see if certain features have larger impacts than others through graphs. "
   ]
  },
  {
   "cell_type": "code",
   "execution_count": null,
   "id": "36ab1969",
   "metadata": {},
   "outputs": [],
   "source": [
    "# Load the libraries\n",
    "import pandas as pd\n",
    "import matplotlib.pyplot as plt\n",
    "import seaborn as sns\n",
    "import missingno as msno\n",
    "import plotly.express as px"
   ]
  },
  {
   "cell_type": "code",
   "execution_count": null,
   "id": "6811e736",
   "metadata": {},
   "outputs": [],
   "source": [
    "# Load the dataset\n",
    "df = pd.read_csv(\"hospital_cleaned.csv\")"
   ]
  },
  {
   "cell_type": "code",
   "execution_count": null,
   "id": "0bb712a0",
   "metadata": {},
   "outputs": [],
   "source": [
    "# Visualization comfirming no missing values remain after data cleaning\n",
    "msno.matrix(df)"
   ]
  },
  {
   "cell_type": "code",
   "execution_count": null,
   "id": "98d05829",
   "metadata": {},
   "outputs": [],
   "source": [
    "# Shows unique values in the gender column\n",
    "print(\"Unique gender groups:\")\n",
    "print(df[\"gender\"].unique(), \"\\n\")\n",
    "# Shows the number of data points for each unique gender value\n",
    "print(\"Counts per gender group:\")\n",
    "print(df[\"gender\"].value_counts(dropna=False))"
   ]
  },
  {
   "cell_type": "code",
   "execution_count": null,
   "id": "f6c7a8ee",
   "metadata": {},
   "outputs": [],
   "source": [
    "# Visualization showing length of stay based on gender\n",
    "fig = px.box(df, x=\"gender\", y=\"length_of_stay\", color=\"gender\")\n",
    "fig.show()"
   ]
  },
  {
   "cell_type": "code",
   "execution_count": null,
   "id": "ddb42242",
   "metadata": {},
   "outputs": [],
   "source": [
    "# Shows unique values in the type of admission column\n",
    "print(\"Unique type_of_admission groups:\")\n",
    "print(df[\"type_of_admission\"].unique(), \"\\n\")\n",
    "# Shows the number of data points for each unique type of admission\n",
    "print(\"Counts per type_of_admission group:\")\n",
    "print(df[\"type_of_admission\"].value_counts(dropna=False))"
   ]
  },
  {
   "cell_type": "code",
   "execution_count": null,
   "id": "a86f2e6c",
   "metadata": {},
   "outputs": [],
   "source": [
    "# Visualization showing the length of stay based on the type of admission\n",
    "fig = px.box(df, x=\"type_of_admission\", y=\"length_of_stay\", points=False)\n",
    "fig.show()\n",
    "# Summary showing key values like quartiles, min, max, standard deviation, and mean\n",
    "summary = df.groupby(\"type_of_admission\")[\"length_of_stay\"].describe()\n",
    "print(summary)"
   ]
  },
  {
   "cell_type": "code",
   "execution_count": null,
   "id": "4cd23234",
   "metadata": {},
   "outputs": [],
   "source": [
    "# Visualization showing the length of stay based on the risk of mortality\n",
    "risk_mortality_order = [\"Minor\", \"Moderate\", \"Major\", \"Extreme\"]\n",
    "\n",
    "fig = px.box(\n",
    "    df,\n",
    "    x=\"apr_risk_of_mortality\",    \n",
    "    y=\"length_of_stay\",\n",
    "    category_orders={\"apr_risk_of_mortality\": risk_mortality_order\n",
    "    },\n",
    "    points=False\n",
    ")\n",
    "fig.show()"
   ]
  },
  {
   "cell_type": "code",
   "execution_count": null,
   "id": "1546d4c0",
   "metadata": {},
   "outputs": [],
   "source": [
    "# Visualization showing the length of stay based on the severity of illness\n",
    "severity_illness_order = [\"Minor\", \"Moderate\", \"Major\", \"Extreme\"]\n",
    "fig = px.box(\n",
    "    df,\n",
    "    x=\"apr_severity_of_illness_description\",    \n",
    "    y=\"length_of_stay\",\n",
    "    category_orders={\"apr_severity_of_illness_description\": severity_illness_order\n",
    "    },\n",
    "    points=False\n",
    ")\n",
    "fig.show()"
   ]
  },
  {
   "cell_type": "code",
   "execution_count": null,
   "id": "37f55a76",
   "metadata": {},
   "outputs": [],
   "source": [
    "# Visualization showing the average length of stay based on the medical/surgical description \n",
    "fig = px.histogram(df, x=\"apr_medical_surgical_description\", y=\"length_of_stay\", histfunc= \"avg\")\n",
    "fig.show()"
   ]
  },
  {
   "cell_type": "code",
   "execution_count": null,
   "id": "ca88d2a9",
   "metadata": {},
   "outputs": [],
   "source": [
    "# Visualization showing the proportion of the total length of stay in each length of stay timeframe bucket for each age group\n",
    "age_order = ['0 to 17', '18 to 29', '30 to 49', '50 to 69', '70 or Older']\n",
    "bins = [0, 1, 3, 7, df[\"length_of_stay\"].max()]\n",
    "labels = [\"0–1 day\", \"2–3 days\", \"4–7 days\", \"> 7 days\"]\n",
    "\n",
    "df[\"los_bucket\"] = pd.cut(df[\"length_of_stay\"], bins=bins, labels=labels, right=True)\n",
    "\n",
    "prop = (\n",
    "    df.groupby([\"age_group\", \"los_bucket\"])\n",
    "      .size()\n",
    "      .unstack(\"los_bucket\")\n",
    "      .loc[age_order]          # ensure correct order\n",
    ")\n",
    "prop = prop.div(prop.sum(axis=1), axis=0)\n",
    "\n",
    "prop.plot(\n",
    "    kind=\"bar\",\n",
    "    stacked=True,\n",
    "    figsize=(10,6),\n",
    "    rot=30\n",
    ")\n",
    "plt.xlabel(\"Age Group\")\n",
    "plt.ylabel(\"Proportion of Stays\")\n",
    "plt.title(\"Length-of-Stay Buckets by Age Group\")\n",
    "plt.legend(title=\"LOS Bucket\", bbox_to_anchor=(1.02,1))\n",
    "plt.tight_layout()\n",
    "plt.show()"
   ]
  },
  {
   "cell_type": "code",
   "execution_count": null,
   "id": "723286b8",
   "metadata": {},
   "outputs": [],
   "source": [
    "# Visualization showing the average length of stay based on gender\n",
    "fig = px.histogram(df, x=\"gender\", y=\"length_of_stay\", histfunc= \"avg\")\n",
    "fig.show()"
   ]
  },
  {
   "cell_type": "code",
   "execution_count": null,
   "id": "9b533349",
   "metadata": {},
   "outputs": [],
   "source": [
    "# Visualization showing the average length of stay based on the type of admission\n",
    "fig = px.histogram(df, x=\"type_of_admission\", y=\"length_of_stay\", histfunc= \"avg\")\n",
    "fig.show()"
   ]
  },
  {
   "cell_type": "code",
   "execution_count": null,
   "id": "4713c9b7",
   "metadata": {},
   "outputs": [],
   "source": [
    "# Visualization showing the average length of stay based on the severity of illness \n",
    "fig = px.histogram(df, x=\"apr_severity_of_illness_description\", y=\"length_of_stay\", histfunc= \"avg\")\n",
    "fig.show()"
   ]
  },
  {
   "cell_type": "code",
   "execution_count": null,
   "id": "8737edbf",
   "metadata": {},
   "outputs": [],
   "source": [
    "# Visualization showing the average length of stay based on the risk of mortality, organized by the medical/surgical description\n",
    "risk_mortality_order = [\"Minor\", \"Moderate\", \"Major\", \"Extreme\"]\n",
    "fig = px.histogram(df, x=\"apr_risk_of_mortality\", y=\"length_of_stay\", color=\"apr_medical_surgical_description\", histfunc= \"avg\", labels={\n",
    "        \"apr_risk_of_mortality\": \"Risk of Mortality\",\n",
    "        \"length_of_stay\": \"Average Length of Stay (days)\",\n",
    "        \"apr_medical_surgical_description\": \"Medical/Surgical Type\"\n",
    "    }\n",
    ")\n",
    "\n",
    "fig.update_layout(\n",
    "    title=\"Average Length of Stay by Risk of Mortality and Medical/Surgical Type\",\n",
    "    xaxis_title=\"Risk of Mortality\",\n",
    "    yaxis_title=\"Average Length of Stay (days)\"\n",
    ")\n",
    "\n",
    "fig.show()\n"
   ]
  },
  {
   "cell_type": "code",
   "execution_count": null,
   "id": "e44118a8",
   "metadata": {},
   "outputs": [],
   "source": [
    "# Visualization showing the average length of stay based on the emergency department indicator, organized by gender\n",
    "fig = px.histogram(df, x=\"emergency_department_indicator\", y=\"length_of_stay\", color=\"gender\", histfunc= \"avg\")\n",
    "fig.show()"
   ]
  },
  {
   "cell_type": "code",
   "execution_count": null,
   "id": "359a704a",
   "metadata": {},
   "outputs": [],
   "source": [
    "# Visualization showing the average length of stay based on the medical/surgical description, organized by risk of mortality\n",
    "fig = px.histogram(df, x=\"apr_medical_surgical_description\", y=\"length_of_stay\", color=\"apr_risk_of_mortality\", histfunc= \"avg\",labels={\n",
    "        \"apr_medical_surgical_description\": \"Medical/Surgical Type\",\n",
    "        \"length_of_stay\": \"Average Length of Stay (days)\",\n",
    "        \"apr_risk_of_mortality\": \"Risk of Mortality\"\n",
    "    }\n",
    ")\n",
    "\n",
    "fig.update_layout(\n",
    "    title=\"Average Length of Stay by Risk of Mortality and Medical/Surgical Type\",\n",
    "    xaxis_title=\"Medical/Surgical Type\",\n",
    "    yaxis_title=\"Average Length of Stay (days)\"\n",
    ")\n",
    "\n",
    "fig.show()\n"
   ]
  },
  {
   "cell_type": "code",
   "execution_count": null,
   "id": "777eaa1c",
   "metadata": {},
   "outputs": [],
   "source": [
    "# Visualization showing the average length of stay based on the risk of mortality, organized by age group\n",
    "fig = px.histogram(df, x=\"apr_risk_of_mortality\", y=\"length_of_stay\", color=\"age_group\", histfunc= \"avg\",labels={\n",
    "        \"apr_risk_of_mortality\": \"Risk of Mortality\",\n",
    "        \"length_of_stay\": \"Average Length of Stay (days)\",\n",
    "        \"age_group\": \"Age Group\"\n",
    "    }\n",
    ")\n",
    "\n",
    "fig.update_layout(\n",
    "    title=\"Average Length of Stay by Risk of Mortality and Age Group\",\n",
    "    xaxis_title=\"Risk of Mortality\",\n",
    "    yaxis_title=\"Average Length of Stay (days)\"\n",
    ")\n",
    "\n",
    "fig.show()"
   ]
  },
  {
   "cell_type": "code",
   "execution_count": null,
   "id": "456ced29",
   "metadata": {},
   "outputs": [],
   "source": [
    "# Visualization showing the average length of stay based on the emergency department indicator, organized by age group\n",
    "fig = px.histogram(df, x=\"emergency_department_indicator\", y=\"length_of_stay\", color=\"age_group\", histfunc= \"avg\")\n",
    "fig.show()"
   ]
  }
 ],
 "metadata": {
  "kernelspec": {
   "display_name": ".venv",
   "language": "python",
   "name": "python3"
  },
  "language_info": {
   "codemirror_mode": {
    "name": "ipython",
    "version": 3
   },
   "file_extension": ".py",
   "mimetype": "text/x-python",
   "name": "python",
   "nbconvert_exporter": "python",
   "pygments_lexer": "ipython3",
   "version": "3.11.9"
  }
 },
 "nbformat": 4,
 "nbformat_minor": 5
}
