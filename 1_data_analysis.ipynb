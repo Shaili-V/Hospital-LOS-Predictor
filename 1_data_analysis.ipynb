{
 "cells": [
  {
   "cell_type": "markdown",
   "id": "94b612d6",
   "metadata": {},
   "source": [
    "# Data Analysis\n",
    "This file contains code to explore the \"hospital.csv\" datasest by looking at items such as column names, data types, value counts, unique values, and null values. Additionaly, there are preliminary visualizations to begin understanding relationships. The main purpose of this file is to explore the dataset for the first time in order to began planning future steps for data cleaning and eventually for models."
   ]
  },
  {
   "cell_type": "code",
   "execution_count": null,
   "id": "87b6603e",
   "metadata": {},
   "outputs": [],
   "source": [
    "# Data Processing\n",
    "import os\n",
    "import numpy as np\n",
    "import pandas as pd\n",
    "import missingno as msno\n",
    "# Basic Visualization tools\n",
    "import matplotlib.pyplot as plt\n",
    "import warnings\n",
    "import plotly.express as px\n",
    "warnings.filterwarnings('ignore')\n",
    "plt.rcParams['figure.dpi'] = 300\n"
   ]
  },
  {
   "cell_type": "code",
   "execution_count": null,
   "id": "4fc8c3fd",
   "metadata": {},
   "outputs": [],
   "source": [
    "# Load in the dataset\n",
    "data = pd.read_csv('hospital.csv')"
   ]
  },
  {
   "cell_type": "markdown",
   "id": "49726fc0",
   "metadata": {},
   "source": [
    "## Analysis"
   ]
  },
  {
   "cell_type": "code",
   "execution_count": null,
   "id": "d607c54f",
   "metadata": {},
   "outputs": [],
   "source": [
    "# Print each column name and its respective data type\n",
    "columns_list = data.columns.tolist()\n",
    "np.array(columns_list)\n",
    "for column in columns_list:\n",
    "    row = [column, data[column].dtype]\n",
    "    print(row)"
   ]
  },
  {
   "cell_type": "code",
   "execution_count": null,
   "id": "30e81930",
   "metadata": {},
   "outputs": [],
   "source": [
    "# Print the first 2 rows of data\n",
    "print(\"First 2 rows of data:\\n\")\n",
    "print(data.head(2))\n",
    "\n",
    "# Print info about data types\n",
    "print(data.info())"
   ]
  },
  {
   "cell_type": "code",
   "execution_count": null,
   "id": "10875935",
   "metadata": {},
   "outputs": [],
   "source": [
    "# Count null values per row \n",
    "print((data.isnull() == True).sum())"
   ]
  },
  {
   "cell_type": "code",
   "execution_count": null,
   "id": "94f01779",
   "metadata": {},
   "outputs": [],
   "source": [
    "# Look specifically at target variable row's (length of stay) number of values\n",
    "print(data[\"Length of Stay\"].value_counts())\n",
    "\n",
    "# and the frequencies of each vaue\n",
    "print(data[\"Length of Stay\"].value_counts(True))"
   ]
  },
  {
   "cell_type": "code",
   "execution_count": null,
   "id": "efb3d5e1",
   "metadata": {},
   "outputs": [],
   "source": [
    "columns_list = data.columns.tolist()\n",
    "# Check unique values in certain columns\n",
    "for column in columns_list:\n",
    "    unique_values = data[column].unique()\n",
    "    print(f\"{column} : {unique_values} \")"
   ]
  },
  {
   "cell_type": "markdown",
   "id": "2e522c7d",
   "metadata": {},
   "source": [
    "## Visualizations"
   ]
  },
  {
   "cell_type": "code",
   "execution_count": null,
   "id": "330af288",
   "metadata": {},
   "outputs": [],
   "source": [
    "# Visualization to see columns with null/missing values\n",
    "msno.matrix(data)"
   ]
  },
  {
   "cell_type": "code",
   "execution_count": null,
   "id": "fb3e3128",
   "metadata": {},
   "outputs": [],
   "source": [
    "# Visualization showing the length of stay based on hospital location, organized by the diagnosis code\n",
    "fig = px.scatter(data, x=\"Hospital Service Area\", y=\"Length of Stay\", color=\"CCSR Diagnosis Code\")\n",
    "fig.update_layout(barmode='group')\n",
    "fig.show()"
   ]
  },
  {
   "cell_type": "code",
   "execution_count": null,
   "id": "83711e36",
   "metadata": {},
   "outputs": [],
   "source": [
    "# Visualization showing the length of stay based on total costs, organized by the age group\n",
    "fig = px.scatter(data, x='Total Costs', y='Length of Stay', color='Age Group')\n",
    "fig.show()"
   ]
  }
 ],
 "metadata": {
  "kernelspec": {
   "display_name": ".venv",
   "language": "python",
   "name": "python3"
  },
  "language_info": {
   "codemirror_mode": {
    "name": "ipython",
    "version": 3
   },
   "file_extension": ".py",
   "mimetype": "text/x-python",
   "name": "python",
   "nbconvert_exporter": "python",
   "pygments_lexer": "ipython3",
   "version": "3.11.9"
  }
 },
 "nbformat": 4,
 "nbformat_minor": 5
}
