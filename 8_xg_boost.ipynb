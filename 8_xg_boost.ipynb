{
 "cells": [
  {
   "cell_type": "markdown",
   "id": "51c42beb",
   "metadata": {},
   "source": [
    "# XG Boost Model\n",
    "This file contains code to run a XG Boost model on the dataset. \n",
    "\n",
    "All columns were used and the columns that were categorical were one hot encoded. \n",
    "\n",
    "The main purpose of the file is to see how another type of model works on the dataset to confirm that the third neural network produced the best results. "
   ]
  },
  {
   "cell_type": "code",
   "execution_count": null,
   "id": "1f5c5235",
   "metadata": {},
   "outputs": [],
   "source": [
    "# Load the libraries\n",
    "import pandas as pd\n",
    "from sklearn.model_selection import train_test_split\n",
    "from sklearn.preprocessing import OneHotEncoder\n",
    "from sklearn.compose import ColumnTransformer\n",
    "from xgboost import XGBRegressor\n",
    "from sklearn.metrics import mean_squared_error, mean_absolute_error"
   ]
  },
  {
   "cell_type": "code",
   "execution_count": null,
   "id": "6a6e86db",
   "metadata": {},
   "outputs": [],
   "source": [
    "# Load the dataset\n",
    "df = pd.read_csv(\"hospital_los_21.csv\")"
   ]
  },
  {
   "cell_type": "code",
   "execution_count": null,
   "id": "bfa1eddb",
   "metadata": {},
   "outputs": [],
   "source": [
    "# Define features and target columns\n",
    "features = [\n",
    "    \"age_group\", \n",
    "    \"gender\",\n",
    "    \"type_of_admission\", \n",
    "    \"ccsr_diagnosis_description\",\n",
    "    \"ccsr_procedure_description\",\n",
    "    \"apr_drg_description\",\n",
    "    \"apr_severity_of_illness_description\",\n",
    "    \"apr_risk_of_mortality\",\n",
    "    \"apr_medical_surgical_description\",\n",
    "    \"emergency_department_indicator\",\n",
    "    \"apr_mdc_description\"\n",
    "]\n",
    "target = \"length_of_stay\"\n",
    "X = df[features]\n",
    "y = df[target]"
   ]
  },
  {
   "cell_type": "code",
   "execution_count": null,
   "id": "93535268",
   "metadata": {},
   "outputs": [],
   "source": [
    "# One hot encode the categorical columns\n",
    "preprocessor = ColumnTransformer(\n",
    "    transformers=[\n",
    "        ('cat', OneHotEncoder(handle_unknown='ignore', sparse_output=False), features)\n",
    "    ],\n",
    "    remainder='drop'\n",
    ")\n",
    "X_encoded = preprocessor.fit_transform(X)"
   ]
  },
  {
   "cell_type": "code",
   "execution_count": null,
   "id": "52cfc394",
   "metadata": {},
   "outputs": [],
   "source": [
    "# Split the training and testing data and train the model\n",
    "X_train, X_test, y_train, y_test = train_test_split(X_encoded, y, test_size=0.2, random_state=42)\n",
    "\n",
    "xgb_model = XGBRegressor(\n",
    "    objective='reg:squarederror',\n",
    "    n_estimators=1000,\n",
    "    learning_rate=0.05,\n",
    "    max_depth=6,\n",
    "    subsample=0.8,\n",
    "    colsample_bytree=0.8,\n",
    "    random_state=42,\n",
    "    early_stopping_rounds=10,   \n",
    "    eval_metric='rmse'\n",
    ")\n",
    "xgb_model.fit(\n",
    "    X_train, y_train,\n",
    "    eval_set=[(X_train, y_train), (X_test, y_test)],\n",
    "    verbose=True\n",
    ")"
   ]
  }
 ],
 "metadata": {
  "kernelspec": {
   "display_name": ".venv",
   "language": "python",
   "name": "python3"
  },
  "language_info": {
   "codemirror_mode": {
    "name": "ipython",
    "version": 3
   },
   "file_extension": ".py",
   "mimetype": "text/x-python",
   "name": "python",
   "nbconvert_exporter": "python",
   "pygments_lexer": "ipython3",
   "version": "3.11.9"
  }
 },
 "nbformat": 4,
 "nbformat_minor": 5
}
