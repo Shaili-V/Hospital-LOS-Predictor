{
 "cells": [
  {
   "cell_type": "markdown",
   "id": "67569fc4",
   "metadata": {},
   "source": [
    "# Classic Machine Learning Models\n",
    "This file contains code to run classic machine learning models (Linear Regression, Random Forest, Support Vector Regression, Gradient Boosting, Bayesian Ridge, and Guassian Process Regressor) on the data. However, only seven columns with a small number of unique values were used to maximize simplicity for the models. These columns are  \"age_group\", \"gender\", \"type_of_admission\",\"apr_severity_of_illness_description\" \"apr_risk_of_mortality\", \"apr_medical_surgical_description\", \"emergency_department_indicator\"\n",
    "\n",
    "All of the columns were categorical and one hot encoded. A summary was printed showing the metrics of Mean Squared Error and R Squared score.\n",
    "\n",
    "The main purpose of the file is to see the results of the classic ML models on the data to set a basline for future models"
   ]
  },
  {
   "cell_type": "code",
   "execution_count": null,
   "id": "a7983dd7",
   "metadata": {},
   "outputs": [],
   "source": [
    "# Load libraries\n",
    "import pandas as pd\n",
    "from sklearn.model_selection import train_test_split\n",
    "from sklearn.preprocessing import OneHotEncoder\n",
    "from sklearn.compose import ColumnTransformer\n",
    "from sklearn.pipeline import Pipeline\n",
    "from sklearn.linear_model import LinearRegression\n",
    "from sklearn.ensemble import RandomForestRegressor, GradientBoostingRegressor\n",
    "from sklearn.svm import SVR\n",
    "from sklearn.metrics import mean_squared_error, r2_score\n",
    "from sklearn.linear_model import BayesianRidge\n",
    "from sklearn.gaussian_process import GaussianProcessRegressor"
   ]
  },
  {
   "cell_type": "code",
   "execution_count": null,
   "id": "f90616b5",
   "metadata": {},
   "outputs": [],
   "source": [
    "# Read in the dataset\n",
    "df = pd.read_csv(\"hospital_cleaned.csv\")"
   ]
  },
  {
   "cell_type": "code",
   "execution_count": null,
   "id": "4a68ed25",
   "metadata": {},
   "outputs": [],
   "source": [
    "# Define feature columns and target column\n",
    "features = [\n",
    "    \"age_group\",\n",
    "    \"gender\",\n",
    "    \"type_of_admission\",\n",
    "    \"apr_severity_of_illness_description\",\n",
    "    \"apr_risk_of_mortality\",\n",
    "    \"apr_medical_surgical_description\",\n",
    "    \"emergency_department_indicator\"\n",
    "]\n",
    "target = \"length_of_stay\"\n",
    "df_model = df[features + [target]].dropna()"
   ]
  },
  {
   "cell_type": "code",
   "execution_count": null,
   "id": "a2539473",
   "metadata": {},
   "outputs": [],
   "source": [
    "# 1. Split\n",
    "X_train, X_test, y_train, y_test = train_test_split(\n",
    "    df_model[features], df_model[target],\n",
    "    test_size=0.2, random_state=42\n",
    ")"
   ]
  },
  {
   "cell_type": "code",
   "execution_count": null,
   "id": "45ebc34b",
   "metadata": {},
   "outputs": [],
   "source": [
    "# 2. One‐hot encode all categorical cols\n",
    "preprocessor = ColumnTransformer([\n",
    "    (\"ohe\", OneHotEncoder(handle_unknown=\"ignore\", sparse_output=False), features)\n",
    "])"
   ]
  },
  {
   "cell_type": "code",
   "execution_count": null,
   "id": "2f7e1141",
   "metadata": {},
   "outputs": [],
   "source": [
    "# 3. Define models\n",
    "models = {\n",
    "    \"LinearRegression\": LinearRegression(),\n",
    "    \"RandomForest\":     RandomForestRegressor(100, random_state=42),\n",
    "    \"SVR\":              SVR(),\n",
    "    \"GradientBoosting\": GradientBoostingRegressor(random_state=42),\n",
    "    \"BayesianRidge\":    BayesianRidge(),\n",
    "    \"GPR\":              GaussianProcessRegressor()\n",
    "}"
   ]
  },
  {
   "cell_type": "code",
   "execution_count": null,
   "id": "ed614cb9",
   "metadata": {},
   "outputs": [],
   "source": [
    "# 4. Fit & evaluate\n",
    "results = []\n",
    "for name, model in models.items():\n",
    "    pipe = Pipeline([\n",
    "        (\"preproc\", preprocessor),\n",
    "        (\"reg\",    model)\n",
    "    ])\n",
    "    pipe.fit(X_train, y_train)\n",
    "    preds = pipe.predict(X_test)\n",
    "    mse = mean_squared_error(y_test, preds)\n",
    "    r2  = r2_score(y_test, preds)\n",
    "    results.append((name, mse, r2))\n",
    "    print(f\"{name:17s} → MSE: {mse:.3f},  R²: {r2:.3f}\")"
   ]
  },
  {
   "cell_type": "code",
   "execution_count": null,
   "id": "7e2cc885",
   "metadata": {},
   "outputs": [],
   "source": [
    "# 5. Summarize results\n",
    "res_df = pd.DataFrame(results, columns=[\"model\",\"MSE\",\"R2\"]).set_index(\"model\")\n",
    "print(\"\\nSummary:\\n\", res_df)"
   ]
  }
 ],
 "metadata": {
  "kernelspec": {
   "display_name": ".venv",
   "language": "python",
   "name": "python3"
  },
  "language_info": {
   "codemirror_mode": {
    "name": "ipython",
    "version": 3
   },
   "file_extension": ".py",
   "mimetype": "text/x-python",
   "name": "python",
   "nbconvert_exporter": "python",
   "pygments_lexer": "ipython3",
   "version": "3.11.9"
  }
 },
 "nbformat": 4,
 "nbformat_minor": 5
}
